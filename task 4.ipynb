{
 "cells": [
  {
   "cell_type": "code",
   "execution_count": 8,
   "metadata": {},
   "outputs": [
    {
     "name": "stdout",
     "output_type": "stream",
     "text": [
      "verification code is: 815\n",
      "Welcome to our application\n",
      "+-------+-------+----------+\n",
      "|  name | Price | Quantity |\n",
      "+-------+-------+----------+\n",
      "| water |  88.0 |   2000   |\n",
      "|  soda | 160.0 |   1200   |\n",
      "| chips |  70.0 |   1200   |\n",
      "| bread |  45.0 |   1200   |\n",
      "|  eggs | 200.0 |   1200   |\n",
      "+-------+-------+----------+\n",
      "product name: soda\n",
      "Total price: 160000.0\n",
      "product name: water\n",
      "Total price: 336000.0\n",
      "product name: chips\n",
      "Required quantity not available\n",
      "Total price: 476000.0\n",
      "Total price to be paid: 476000.0\n",
      "Thank you for shopping with us\n"
     ]
    }
   ],
   "source": [
    "import random\n",
    "from prettytable import PrettyTable\n",
    "u='reham'\n",
    "p='2020'\n",
    "while True:\n",
    "    x = input('Enter your username: ')\n",
    "    y = input('Enter your password: ')\n",
    "    if x == u:\n",
    "        y=input('Enter your password: ')\n",
    "        if y == p:\n",
    "            s=random.randrange(100,1000)\n",
    "            print(\"verification code is:\",s)\n",
    "            while True:\n",
    "                a=int(input(\"Enter the verification code:\"))\n",
    "                if a==s:\n",
    "                    print(\"Welcome to our application\")\n",
    "                    break\n",
    "                else:\n",
    "                    print(\"Incorrect verification code .try again\")\n",
    "\n",
    "            break\n",
    "        else:\n",
    "            print('Incorrect password. Try again')\n",
    "    else:\n",
    "        print('Incorrect username. Try again')\n",
    "products =[{'name':\"water\",\"price\":88.0,\"quantity\":2000},\n",
    "           {'name':\"soda\",\"price\":160.0,\"quantity\":1200},\n",
    "           {'name':\"chips\",\"price\":70.0,\"quantity\":1200},\n",
    "           {'name':\"bread\",\"price\":45.0,\"quantity\":1200},\n",
    "           {'name':\"eggs\",\"price\":200.0,\"quantity\":1200},\n",
    "]\n",
    "tabel = PrettyTable()\n",
    "tabel.field_names = [ \"name\", \"Price\",\"Quantity\"]\n",
    "for product in products:\n",
    "    tabel.add_row([product['name'],product['price'],product['quantity']])\n",
    "print(tabel)\n",
    "total_discount_price = 0\n",
    "while True:\n",
    "    product_name = input(\"Enter product name:\").lower()\n",
    "    if product_name not in map (lambda x:x ['name'].lower(),products):\n",
    "        print(\"Product not found in the table,please enter a valid product \") \n",
    "    else:\n",
    "        product_name = product_name.lower()\n",
    "        print(\"product name:\",product_name)\n",
    "        quantity_required = int(input(\"Enter the quantity:\"))\n",
    "        product =next(p for p in products if p['name']==product_name)\n",
    "        if product['quantity']<quantity_required:\n",
    "            print(\"Required quantity not available\")  \n",
    "        product['quantity']-=quantity_required\n",
    "        total_discount_price+=product['price']*quantity_required\n",
    "        print(\"Total price:\",total_discount_price)\n",
    "        choice = input(\"Do you want to buy more products? (yes/no):\")\n",
    "        if choice.lower() == 'no':\n",
    "            break\n",
    "print(\"Total price to be paid:\",total_discount_price)\n",
    "print(\"Thank you for shopping with us\")\n",
    "            "
   ]
  }
 ],
 "metadata": {
  "kernelspec": {
   "display_name": "Python 3",
   "language": "python",
   "name": "python3"
  },
  "language_info": {
   "codemirror_mode": {
    "name": "ipython",
    "version": 3
   },
   "file_extension": ".py",
   "mimetype": "text/x-python",
   "name": "python",
   "nbconvert_exporter": "python",
   "pygments_lexer": "ipython3",
   "version": "3.12.4"
  }
 },
 "nbformat": 4,
 "nbformat_minor": 2
}
