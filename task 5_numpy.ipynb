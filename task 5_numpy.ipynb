{
 "cells": [
  {
   "cell_type": "markdown",
   "id": "ebccaeaf",
   "metadata": {},
   "source": [
    "# 1- Import "
   ]
  },
  {
   "cell_type": "code",
   "execution_count": 3,
   "id": "9fb58b46",
   "metadata": {},
   "outputs": [],
   "source": [
    "import numpy as np"
   ]
  },
  {
   "attachments": {
    "image.png": {
     "image/png": "[encoded data removed]"
    }
   },
   "cell_type": "markdown",
   "id": "854ec30f",
   "metadata": {},
   "source": [
    "# 2- Create a numpy 5X5 matrix with ones at the borders & zeros inside.\n",
    "![image.png](attachment:image.png)"
   ]
  },
  {
   "cell_type": "code",
   "execution_count": 4,
   "id": "6fe9683c",
   "metadata": {},
   "outputs": [
    {
     "name": "stdout",
     "output_type": "stream",
     "text": [
      "[[1 1 1 1 1]\n",
      " [1 0 0 0 1]\n",
      " [1 0 0 0 1]\n",
      " [1 0 0 0 1]\n",
      " [1 1 1 1 1]]\n"
     ]
    }
   ],
   "source": [
    "import numpy as np\n",
    "\n",
    "matrix = np.zeros((5, 5), dtype=int)\n",
    "\n",
    "matrix[0, :] = 1  \n",
    "matrix[-1, :] = 1  \n",
    "matrix[:, 0] = 1   \n",
    "matrix[:, -1] = 1  \n",
    "\n",
    "print(matrix)"
   ]
  },
  {
   "attachments": {
    "image-2.png": {
     "image/png": "[encoded data removed]"
    }
   },
   "cell_type": "markdown",
   "id": "d412636d",
   "metadata": {},
   "source": [
    "# 3- Create a 5X5 matrix where the first diagonal = 1, while the second diagonal = 2, while other values=3.\n",
    "![image-2.png](attachment:image-2.png)"
   ]
  },
  {
   "cell_type": "code",
   "execution_count": 3,
   "id": "c4bc8b85",
   "metadata": {},
   "outputs": [
    {
     "name": "stdout",
     "output_type": "stream",
     "text": [
      "[[1 3 3 3 2]\n",
      " [3 1 3 2 3]\n",
      " [3 3 2 3 3]\n",
      " [3 2 3 1 3]\n",
      " [2 3 3 3 1]]\n"
     ]
    }
   ],
   "source": [
    "import numpy as np\n",
    "\n",
    "matrix = np.full((5, 5), 3)\n",
    "\n",
    "np.fill_diagonal(matrix, 1)\n",
    "\n",
    "np.fill_diagonal(np.fliplr(matrix), 2)\n",
    "\n",
    "print(matrix)"
   ]
  },
  {
   "attachments": {
    "image.png": {
     "image/png": "[encoded data removed]"
    }
   },
   "cell_type": "markdown",
   "id": "ed2b5b00",
   "metadata": {},
   "source": [
    "# 4- Consider representing parameters & biases of  the following system of linear algebra using matrices & Vectors:\n",
    "![image.png](attachment:image.png)"
   ]
  },
  {
   "cell_type": "code",
   "execution_count": 37,
   "id": "3778e8f8",
   "metadata": {},
   "outputs": [],
   "source": [
    "# write code here"
   ]
  },
  {
   "cell_type": "markdown",
   "id": "0b1f291a",
   "metadata": {},
   "source": [
    "# 5- Create two matrices with any values you like and stack them vertically"
   ]
  },
  {
   "cell_type": "code",
   "execution_count": 4,
   "id": "66d71485",
   "metadata": {},
   "outputs": [
    {
     "name": "stdout",
     "output_type": "stream",
     "text": [
      "[[ 1  2  3]\n",
      " [ 4  5  6]\n",
      " [ 7  8  9]\n",
      " [10 11 12]]\n"
     ]
    }
   ],
   "source": [
    "import numpy as np\n",
    "\n",
    "matrix1 = np.array([[1, 2, 3], [4, 5, 6]])\n",
    "matrix2 = np.array([[7, 8, 9], [10, 11, 12]])\n",
    "\n",
    "stacked_matrix = np.vstack((matrix1, matrix2))\n",
    "\n",
    "print(stacked_matrix)"
   ]
  },
  {
   "cell_type": "code",
   "execution_count": null,
   "id": "65cb6636",
   "metadata": {},
   "outputs": [],
   "source": []
  }
 ],
 "metadata": {
  "kernelspec": {
   "display_name": "Python 3",
   "language": "python",
   "name": "python3"
  },
  "language_info": {
   "codemirror_mode": {
    "name": "ipython",
    "version": 3
   },
   "file_extension": ".py",
   "mimetype": "text/x-python",
   "name": "python",
   "nbconvert_exporter": "python",
   "pygments_lexer": "ipython3",
   "version": "3.12.4"
  }
 },
 "nbformat": 4,
 "nbformat_minor": 5
}
