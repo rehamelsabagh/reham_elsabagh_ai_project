{
 "cells": [
  {
   "cell_type": "code",
   "execution_count": 2,
   "metadata": {},
   "outputs": [
    {
     "name": "stdout",
     "output_type": "stream",
     "text": [
      "2 + 3 = 5\n",
      "Thank you for using the calculator.Goodbye!\n"
     ]
    }
   ],
   "source": [
    "def add(x, y):\n",
    "    return x + y\n",
    "\n",
    "def subtract(x, y):\n",
    "    return x - y\n",
    "\n",
    "def multiply(x, y):\n",
    "    return x * y\n",
    "\n",
    "def divide(x, y):\n",
    "    if y==0:\n",
    "        return \"Error: Division by zero is not allowed.\"   \n",
    "    return x / y\n",
    "def get_valid_number(prompt):\n",
    "    \"\"\"Ensure the user enters a valid number.\"\"\"\n",
    "    while True:\n",
    "        try:\n",
    "            return float(input(prompt))\n",
    "        except ValueError:\n",
    "            print(\" Invalid input! Please enter a valid number.\")\n",
    "\n",
    "def calculator():\n",
    "    while True:\n",
    "        print(\"1.Add\")\n",
    "        print(\"2.Subtract\")\n",
    "        print(\"3.Multiply\")\n",
    "        print(\"4.Divide\")\n",
    "        print(\"5. Exit\")\n",
    "\n",
    "choice = input(\"Enter choice(1/2/3/4/5): \")\n",
    "num1 = int(input(\"Enter first number: \"))\n",
    "num2 = int(input(\"Enter second number: \"))\n",
    "\n",
    "if choice == '1':\n",
    "    print(num1,\"+\",num2,\"=\", add(num1,num2))\n",
    "\n",
    "elif choice == '2':\n",
    "    print(num1,\"-\",num2,\"=\", subtract(num1,num2))\n",
    "\n",
    "elif choice == '3':\n",
    "    print(num1,\"*\",num2,\"=\", multiply(num1,num2))\n",
    "\n",
    "elif choice == '4':\n",
    "    print(num1,\"/\",num2,\"=\", divide(num1,num2))\n",
    "elif choice == '5':\n",
    "    print(\"Thank you for using the calculator\")\n",
    "else:\n",
    "    print(\"Invalid choice! Please enter a number between 1 and 5.\")\n",
    "another = input(\"Do you want to perform another calculation? (yes/no): \")\n",
    "if another != 'yes':\n",
    "    print(\"Thank you for using the calculator.Goodbye!\")\n",
    "\n"
   ]
  }
 ],
 "metadata": {
  "kernelspec": {
   "display_name": "Python 3",
   "language": "python",
   "name": "python3"
  },
  "language_info": {
   "codemirror_mode": {
    "name": "ipython",
    "version": 3
   },
   "file_extension": ".py",
   "mimetype": "text/x-python",
   "name": "python",
   "nbconvert_exporter": "python",
   "pygments_lexer": "ipython3",
   "version": "3.12.4"
  }
 },
 "nbformat": 4,
 "nbformat_minor": 2
}
